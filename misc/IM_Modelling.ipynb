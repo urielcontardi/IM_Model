{
 "cells": [
  {
   "cell_type": "markdown",
   "metadata": {},
   "source": [
    "# Equações de Fluxo\n",
    "\n",
    "$$\n",
    "\\mathbf{v}_s = \n",
    "\\begin{bmatrix}\n",
    "v_{\\alpha s} \\\\\n",
    "v_{\\beta s}\n",
    "\\end{bmatrix},\n",
    "\\quad\n",
    "\\mathbf{i}_s = \n",
    "\\begin{bmatrix}\n",
    "i_{\\alpha s} \\\\\n",
    "i_{\\beta s}\n",
    "\\end{bmatrix}.\n",
    "$$\n",
    "\n",
    "Para cada enrolamento (estator e rotor), definimos os fluxos acoplados:\n",
    "\n",
    "\\begin{aligned}\n",
    "\\psi_{\\alpha s} &= L_s \\, i_{\\alpha s} \\;+\\; L_m \\, i_{\\alpha r},\\\\\n",
    "\\psi_{\\beta s} &= L_s \\, i_{\\beta s} \\;+\\; L_m \\, i_{\\beta r},\\\\[6pt]\n",
    "\\psi_{\\alpha r} &= L_m \\, i_{\\alpha s} \\;+\\; L_r \\, i_{\\alpha r},\\\\\n",
    "\\psi_{\\beta r} &= L_m \\, i_{\\beta s} \\;+\\; L_r \\, i_{\\beta r}.\n",
    "\\end{aligned}\n",
    "\n",
    "- $\\psi_{\\alpha s}, \\psi_{\\beta s}$: fluxos do **estator** nos eixos $\\alpha, \\beta$.\n",
    "- $\\psi_{\\alpha r}, \\psi_{\\beta r}$: fluxos do **rotor** nos eixos $\\alpha, \\beta$."
   ]
  },
  {
   "cell_type": "markdown",
   "metadata": {},
   "source": [
    "# Equações Elétricas\n",
    "\n",
    "## Estator\n",
    "\n",
    "No referencial estacionário $\\alpha\\beta$, as **tensões de estator** são:\n",
    "\n",
    "\\begin{cases}\n",
    "v_{\\alpha s} = R_s \\, i_{\\alpha s} \\;+\\; \\frac{d\\psi_{\\alpha s}}{dt},\\\\[8pt]\n",
    "v_{\\beta s} = R_s \\, i_{\\beta s} \\;+\\; \\frac{d\\psi_{\\beta s}}{dt}.\n",
    "\\end{cases}\n",
    "\n",
    "<!-- Ou, de forma vetorial,\n",
    "\n",
    "$$\n",
    "\\mathbf{v}_s = R_s\\,\\mathbf{i}_s + \\frac{d}{dt}\\bigl(\\boldsymbol{\\psi}_s\\bigr),\n",
    "\\quad \\text{onde } \n",
    "\\boldsymbol{\\psi}_s = \n",
    "\\begin{bmatrix}\n",
    "\\psi_{\\alpha s}\\\\\n",
    "\\psi_{\\beta s}\n",
    "\\end{bmatrix}.\n",
    "$$ -->\n",
    "\n",
    "## Rotor\n",
    "\n",
    "Como o rotor está em **curto-circuito**, a tensão aplicada no rotor é nula ($v_{\\alpha r} = 0$, $v_{\\beta r} = 0$). \n",
    "\n",
    "\\begin{cases}\n",
    "v_{\\alpha r} = 0 = R_r \\, i_{\\alpha r} \n",
    "\\;+\\; \\frac{d\\psi_{\\alpha r}}{dt}\n",
    "\\;+\\; \\omega_r\\, \\psi_{\\beta r},\\\\[8pt]\n",
    "v_{\\beta r} = 0 = R_r \\, i_{\\beta r}\n",
    "\\;+\\; \\frac{d\\psi_{\\beta r}}{dt}\n",
    "\\;-\\; \\omega_r\\, \\psi_{\\alpha r}.\n",
    "\\end{cases}\n",
    "\n",
    "- $v_{\\alpha s}, v_{\\beta s}$: Tensões do estator nos eixos $\\alpha, \\beta$.\n",
    "- $v_{\\alpha r}, v_{\\beta r}$: Tensões do estator nos eixos $\\alpha, \\beta$."
   ]
  },
  {
   "cell_type": "markdown",
   "metadata": {},
   "source": [
    "\n",
    "# Equações Mecânicas\n",
    "\n",
    "## Movimento rotacional\n",
    "\n",
    "$$\n",
    "J \\,\\frac{d\\omega_m}{dt} = T_e \\;-\\; T_{\\text{carga}} \\;-\\; B\\,\\omega_m,\n",
    "$$\n",
    "\n",
    "$$\n",
    "\\omega_{mec} = \\frac{\\omega_r}{P}\n",
    "$$\n",
    "\n",
    "## Torque Eletromagnético\n",
    "\n",
    "$$\n",
    "T_e \\;=\\; \\frac{3}{2}\\,\\frac{p}{2}\\,\\Bigl[\n",
    "(\\psi_{\\alpha s} \\, i_{\\beta s} - \\psi_{\\beta s} \\, i_{\\alpha s})\n",
    "\\;+\\;\n",
    "(\\psi_{\\alpha r} \\, i_{\\beta r} - \\psi_{\\beta r} \\, i_{\\alpha r})\n",
    "\\Bigr].\n",
    "$$\n",
    "\n",
    "$$\n",
    "T_e(t) = P\\frac{L_m}{3} \\left\\{ i_{\\alpha r}(t) i_{\\beta s}(t) - i_{\\beta r}(t) i_{\\alpha s}(t) \\right\\}\n",
    "$$\n",
    "\n",
    "onde:\n",
    "- P: número de polos\n",
    "- $J$: momento de inércia (kg·m²)\n",
    "- $\\omega_{r}$: velocidade síncrona (rad/s)\n",
    "- $\\omega_{mec}$: velocidade mecânica (rad/s)\n",
    "- $T_e$: torque eletromagnético produzido\n",
    "- $T_{\\text{carga}}$: torque resistente (de carga)\n",
    "- $B$: coeficiente de atrito viscoso (se existir no modelo)"
   ]
  },
  {
   "cell_type": "markdown",
   "metadata": {},
   "source": [
    "# Desenvolvimento das Equações\n",
    "\n",
    "Uma vez apresetado as equações é possível manipulá-las de maneira a deixar as EDOS em funções apenas das correntes, omitindo as equações de fluxos:\n",
    "\n",
    "$$\n",
    "v_{\\alpha s} = R_s \\, i_{\\alpha s} + L_s \\frac{di_{\\alpha s}}{dt} + L_m \\frac{di_{\\alpha r}}{dt}\n",
    "$$\n",
    "\n",
    "$$\n",
    "v_{\\beta s} = R_s \\, i_{\\beta s} + L_s \\frac{di_{\\beta s}}{dt} + L_m \\frac{di_{\\beta r}}{dt} \\\\\n",
    "$$\n",
    "\n",
    "$$\n",
    "v_{\\alpha r} = R_r \\, i_{\\alpha r} + Lm \\frac{di_{\\alpha s}}{dt} + Lr \\frac{di_{\\alpha r}}{dt} + \\omega_r\\, \\psi_{\\beta r}\n",
    "$$\n",
    "\n",
    "$$\n",
    "v_{\\beta r} = R_r \\, i_{\\beta r} + Lm \\frac{di_{\\beta s}}{dt} + Lr \\frac{di_{\\beta r}}{dt} - \\omega_r\\, \\psi_{\\alpha r}\n",
    "$$"
   ]
  },
  {
   "cell_type": "code",
   "execution_count": 1,
   "metadata": {},
   "outputs": [],
   "source": [
    "import sympy as sp\n",
    "from IPython.display import display, Math\n",
    "\n",
    "# Definição das variáveis\n",
    "t = sp.symbols('t')\n",
    "R_s, R_r = sp.symbols('R_s R_r')\n",
    "L_s, L_r, L_m = sp.symbols('L_s L_r L_m')\n",
    "omega_r = sp.symbols('omega_r')\n",
    "\n",
    "# Variáveis dependentes\n",
    "i_alpha_s, i_beta_s, i_alpha_r, i_beta_r = sp.symbols('i_alpha_s i_beta_s i_alpha_r i_beta_r', cls=sp.Function)\n",
    "v_alpha_s, v_beta_s, v_alpha_r, v_beta_r = sp.symbols('v_alpha_s v_beta_s v_alpha_r v_beta_r')\n",
    "\n",
    "# Definição das derivadas das correntes\n",
    "di_alpha_s_dt = sp.diff(i_alpha_s(t), t)\n",
    "di_beta_s_dt = sp.diff(i_beta_s(t), t)\n",
    "di_alpha_r_dt = sp.diff(i_alpha_r(t), t)\n",
    "di_beta_r_dt = sp.diff(i_beta_r(t), t)\n",
    "\n",
    "# Fluxos do rotor\n",
    "psi_alpha_r = L_m * i_alpha_s(t) + L_r * i_alpha_r(t)\n",
    "psi_beta_r = L_m * i_beta_s(t) + L_r * i_beta_r(t)\n",
    "\n",
    "# Sistema de equações\n",
    "eq1 = sp.Eq(v_alpha_s, R_s * i_alpha_s(t) + L_s * di_alpha_s_dt + L_m * di_alpha_r_dt)\n",
    "eq2 = sp.Eq(v_beta_s, R_s * i_beta_s(t) + L_s * di_beta_s_dt + L_m * di_beta_r_dt)\n",
    "eq3 = sp.Eq(v_alpha_r, R_r * i_alpha_r(t) + L_m * di_alpha_s_dt + L_r * di_alpha_r_dt + omega_r * psi_beta_r)\n",
    "eq4 = sp.Eq(v_beta_r, R_r * i_beta_r(t) + L_m * di_beta_s_dt + L_r * di_beta_r_dt - omega_r * psi_alpha_r)\n",
    "\n",
    "# Resolver o sistema para as derivadas das correntes\n",
    "sol = sp.solve([eq1, eq2, eq3, eq4], (di_alpha_s_dt, di_beta_s_dt, di_alpha_r_dt, di_beta_r_dt))\n",
    "\n",
    "# Reescrever na forma matricial\n",
    "I_derivatives = sp.Matrix([sol[di_alpha_s_dt], sol[di_beta_s_dt], sol[di_alpha_r_dt], sol[di_beta_r_dt]])\n",
    "I = sp.Matrix([i_alpha_s(t), i_beta_s(t), i_alpha_r(t), i_beta_r(t)])\n",
    "V = sp.Matrix([v_alpha_s, v_beta_s, v_alpha_r, v_beta_r])\n",
    "\n",
    "# Separar os coeficientes para obter a forma matricial desejada\n",
    "A = I_derivatives.jacobian(I)\n",
    "B = I_derivatives.jacobian(V)"
   ]
  },
  {
   "cell_type": "code",
   "execution_count": 2,
   "metadata": {},
   "outputs": [
    {
     "data": {
      "text/latex": [
       "$\\displaystyle \\frac{d}{dt} \\begin{bmatrix} \n",
       "i_{\\alpha s} \\\\ i_{\\beta s} \\\\ i_{\\alpha r} \\\\ i_{\\beta r} \n",
       "\\end{bmatrix} =\n",
       "\\mathbf{A} \\begin{bmatrix} \n",
       "i_{\\alpha s} \\\\ i_{\\beta s} \\\\ i_{\\alpha r} \\\\ i_{\\beta r} \n",
       "\\end{bmatrix} +\n",
       "\\mathbf{B} \\begin{bmatrix} \n",
       "v_{\\alpha s} \\\\ v_{\\beta s} \\\\ v_{\\alpha r} \\\\ v_{\\beta r} \n",
       "\\end{bmatrix} \n",
       "$"
      ],
      "text/plain": [
       "<IPython.core.display.Math object>"
      ]
     },
     "metadata": {},
     "output_type": "display_data"
    },
    {
     "data": {
      "text/latex": [
       "$\\displaystyle \\mathbf{A} = \\left[\\begin{matrix}\\frac{L_{r} R_{s}}{L_{m}^{2} - L_{r} L_{s}} & - \\frac{L_{m}^{2} \\omega_{r}}{L_{m}^{2} - L_{r} L_{s}} & - \\frac{L_{m} R_{r}}{L_{m}^{2} - L_{r} L_{s}} & - \\frac{L_{m} L_{r} \\omega_{r}}{L_{m}^{2} - L_{r} L_{s}}\\\\\\frac{L_{m}^{2} \\omega_{r}}{L_{m}^{2} - L_{r} L_{s}} & \\frac{L_{r} R_{s}}{L_{m}^{2} - L_{r} L_{s}} & \\frac{L_{m} L_{r} \\omega_{r}}{L_{m}^{2} - L_{r} L_{s}} & - \\frac{L_{m} R_{r}}{L_{m}^{2} - L_{r} L_{s}}\\\\- \\frac{L_{m} R_{s}}{L_{m}^{2} - L_{r} L_{s}} & \\frac{L_{m} L_{s} \\omega_{r}}{L_{m}^{2} - L_{r} L_{s}} & \\frac{L_{s} R_{r}}{L_{m}^{2} - L_{r} L_{s}} & \\frac{L_{r} L_{s} \\omega_{r}}{L_{m}^{2} - L_{r} L_{s}}\\\\- \\frac{L_{m} L_{s} \\omega_{r}}{L_{m}^{2} - L_{r} L_{s}} & - \\frac{L_{m} R_{s}}{L_{m}^{2} - L_{r} L_{s}} & - \\frac{L_{r} L_{s} \\omega_{r}}{L_{m}^{2} - L_{r} L_{s}} & \\frac{L_{s} R_{r}}{L_{m}^{2} - L_{r} L_{s}}\\end{matrix}\\right]$"
      ],
      "text/plain": [
       "<IPython.core.display.Math object>"
      ]
     },
     "metadata": {},
     "output_type": "display_data"
    },
    {
     "data": {
      "text/latex": [
       "$\\displaystyle \\mathbf{B} = \\left[\\begin{matrix}- \\frac{L_{r}}{L_{m}^{2} - L_{r} L_{s}} & 0 & \\frac{L_{m}}{L_{m}^{2} - L_{r} L_{s}} & 0\\\\0 & - \\frac{L_{r}}{L_{m}^{2} - L_{r} L_{s}} & 0 & \\frac{L_{m}}{L_{m}^{2} - L_{r} L_{s}}\\\\\\frac{L_{m}}{L_{m}^{2} - L_{r} L_{s}} & 0 & - \\frac{L_{s}}{L_{m}^{2} - L_{r} L_{s}} & 0\\\\0 & \\frac{L_{m}}{L_{m}^{2} - L_{r} L_{s}} & 0 & - \\frac{L_{s}}{L_{m}^{2} - L_{r} L_{s}}\\end{matrix}\\right]$"
      ],
      "text/plain": [
       "<IPython.core.display.Math object>"
      ]
     },
     "metadata": {},
     "output_type": "display_data"
    }
   ],
   "source": [
    "# Definição da equação matricial completa em formato LaTeX\n",
    "equation_latex = r\"\"\"\\frac{d}{dt} \\begin{bmatrix} \n",
    "i_{\\alpha s} \\\\ i_{\\beta s} \\\\ i_{\\alpha r} \\\\ i_{\\beta r} \n",
    "\\end{bmatrix} =\n",
    "\\mathbf{A} \\begin{bmatrix} \n",
    "i_{\\alpha s} \\\\ i_{\\beta s} \\\\ i_{\\alpha r} \\\\ i_{\\beta r} \n",
    "\\end{bmatrix} +\n",
    "\\mathbf{B} \\begin{bmatrix} \n",
    "v_{\\alpha s} \\\\ v_{\\beta s} \\\\ v_{\\alpha r} \\\\ v_{\\beta r} \n",
    "\\end{bmatrix} \n",
    "\"\"\" \n",
    "A_latex = sp.latex(A)\n",
    "B_latex = sp.latex(B)\n",
    "\n",
    "# Exibir a equação completa\n",
    "display(Math(equation_latex))\n",
    "\n",
    "# Exibir as matrizes A e B\n",
    "display(Math(r\"\\mathbf{A} = \" + A_latex))\n",
    "display(Math(r\"\\mathbf{B} = \" + B_latex))\n"
   ]
  },
  {
   "cell_type": "code",
   "execution_count": 3,
   "metadata": {},
   "outputs": [
    {
     "data": {
      "text/latex": [
       "$\\displaystyle \\frac{d i_{\\alpha s}}{dt} = \\frac{- L_{m}^{2} \\omega_{r} i_{\\beta s}{\\left(t \\right)} - L_{m} L_{r} \\omega_{r} i_{\\beta r}{\\left(t \\right)} - L_{m} R_{r} i_{\\alpha r}{\\left(t \\right)} + L_{m} v_{\\alpha r} + L_{r} R_{s} i_{\\alpha s}{\\left(t \\right)} - L_{r} v_{\\alpha s}}{L_{m}^{2} - L_{r} L_{s}}$"
      ],
      "text/plain": [
       "<IPython.core.display.Math object>"
      ]
     },
     "metadata": {},
     "output_type": "display_data"
    },
    {
     "data": {
      "text/latex": [
       "$\\displaystyle \\frac{d i_{\\beta s}}{dt} = \\frac{L_{m}^{2} \\omega_{r} i_{\\alpha s}{\\left(t \\right)} + L_{m} L_{r} \\omega_{r} i_{\\alpha r}{\\left(t \\right)} - L_{m} R_{r} i_{\\beta r}{\\left(t \\right)} + L_{m} v_{\\beta r} + L_{r} R_{s} i_{\\beta s}{\\left(t \\right)} - L_{r} v_{\\beta s}}{L_{m}^{2} - L_{r} L_{s}}$"
      ],
      "text/plain": [
       "<IPython.core.display.Math object>"
      ]
     },
     "metadata": {},
     "output_type": "display_data"
    },
    {
     "data": {
      "text/latex": [
       "$\\displaystyle \\frac{d i_{\\alpha r}}{dt} = \\frac{L_{m} L_{s} \\omega_{r} i_{\\beta s}{\\left(t \\right)} - L_{m} R_{s} i_{\\alpha s}{\\left(t \\right)} + L_{m} v_{\\alpha s} + L_{r} L_{s} \\omega_{r} i_{\\beta r}{\\left(t \\right)} + L_{s} R_{r} i_{\\alpha r}{\\left(t \\right)} - L_{s} v_{\\alpha r}}{L_{m}^{2} - L_{r} L_{s}}$"
      ],
      "text/plain": [
       "<IPython.core.display.Math object>"
      ]
     },
     "metadata": {},
     "output_type": "display_data"
    },
    {
     "data": {
      "text/latex": [
       "$\\displaystyle \\frac{d i_{\\beta r}}{dt} = \\frac{- L_{m} L_{s} \\omega_{r} i_{\\alpha s}{\\left(t \\right)} - L_{m} R_{s} i_{\\beta s}{\\left(t \\right)} + L_{m} v_{\\beta s} - L_{r} L_{s} \\omega_{r} i_{\\alpha r}{\\left(t \\right)} + L_{s} R_{r} i_{\\beta r}{\\left(t \\right)} - L_{s} v_{\\beta r}}{L_{m}^{2} - L_{r} L_{s}}$"
      ],
      "text/plain": [
       "<IPython.core.display.Math object>"
      ]
     },
     "metadata": {},
     "output_type": "display_data"
    }
   ],
   "source": [
    "# Simplificar as equações diferenciais antes de exibir\n",
    "edo1_simplified = sp.simplify(sol[di_alpha_s_dt])\n",
    "edo2_simplified = sp.simplify(sol[di_beta_s_dt])\n",
    "edo3_simplified = sp.simplify(sol[di_alpha_r_dt])\n",
    "edo4_simplified = sp.simplify(sol[di_beta_r_dt])\n",
    "\n",
    "# Representação LaTeX das equações simplificadas\n",
    "edo1_latex_simplified = sp.latex(edo1_simplified)\n",
    "edo2_latex_simplified = sp.latex(edo2_simplified)\n",
    "edo3_latex_simplified = sp.latex(edo3_simplified)\n",
    "edo4_latex_simplified = sp.latex(edo4_simplified)\n",
    "\n",
    "# Exibir cada EDO simplificada individualmente\n",
    "display(Math(r\"\\frac{d i_{\\alpha s}}{dt} = \" + edo1_latex_simplified))\n",
    "display(Math(r\"\\frac{d i_{\\beta s}}{dt} = \" + edo2_latex_simplified))\n",
    "display(Math(r\"\\frac{d i_{\\alpha r}}{dt} = \" + edo3_latex_simplified))\n",
    "display(Math(r\"\\frac{d i_{\\beta r}}{dt} = \" + edo4_latex_simplified))\n"
   ]
  },
  {
   "cell_type": "code",
   "execution_count": 8,
   "metadata": {},
   "outputs": [
    {
     "data": {
      "text/latex": [
       "$\\displaystyle \\mathbf{I}[k+1] = \\mathbf{A_d} \\mathbf{I}[k] + \\mathbf{B_d} \\mathbf{V}[k]$"
      ],
      "text/plain": [
       "<IPython.core.display.Math object>"
      ]
     },
     "metadata": {},
     "output_type": "display_data"
    },
    {
     "data": {
      "text/latex": [
       "$\\displaystyle \\text{Discretized System (Euler Method):}$"
      ],
      "text/plain": [
       "<IPython.core.display.Math object>"
      ]
     },
     "metadata": {},
     "output_type": "display_data"
    },
    {
     "data": {
      "text/latex": [
       "$\\displaystyle \\mathbf{A_d} = \\left[\\begin{matrix}\\frac{L_{r} R_{s} T_{s}}{L_{m}^{2} - L_{r} L_{s}} + 1 & - \\frac{L_{m}^{2} T_{s} \\omega_{r}}{L_{m}^{2} - L_{r} L_{s}} & - \\frac{L_{m} R_{r} T_{s}}{L_{m}^{2} - L_{r} L_{s}} & - \\frac{L_{m} L_{r} T_{s} \\omega_{r}}{L_{m}^{2} - L_{r} L_{s}}\\\\\\frac{L_{m}^{2} T_{s} \\omega_{r}}{L_{m}^{2} - L_{r} L_{s}} & \\frac{L_{r} R_{s} T_{s}}{L_{m}^{2} - L_{r} L_{s}} + 1 & \\frac{L_{m} L_{r} T_{s} \\omega_{r}}{L_{m}^{2} - L_{r} L_{s}} & - \\frac{L_{m} R_{r} T_{s}}{L_{m}^{2} - L_{r} L_{s}}\\\\- \\frac{L_{m} R_{s} T_{s}}{L_{m}^{2} - L_{r} L_{s}} & \\frac{L_{m} L_{s} T_{s} \\omega_{r}}{L_{m}^{2} - L_{r} L_{s}} & \\frac{L_{s} R_{r} T_{s}}{L_{m}^{2} - L_{r} L_{s}} + 1 & \\frac{L_{r} L_{s} T_{s} \\omega_{r}}{L_{m}^{2} - L_{r} L_{s}}\\\\- \\frac{L_{m} L_{s} T_{s} \\omega_{r}}{L_{m}^{2} - L_{r} L_{s}} & - \\frac{L_{m} R_{s} T_{s}}{L_{m}^{2} - L_{r} L_{s}} & - \\frac{L_{r} L_{s} T_{s} \\omega_{r}}{L_{m}^{2} - L_{r} L_{s}} & \\frac{L_{s} R_{r} T_{s}}{L_{m}^{2} - L_{r} L_{s}} + 1\\end{matrix}\\right]$"
      ],
      "text/plain": [
       "<IPython.core.display.Math object>"
      ]
     },
     "metadata": {},
     "output_type": "display_data"
    },
    {
     "data": {
      "text/latex": [
       "$\\displaystyle \\mathbf{B_d} = \\left[\\begin{matrix}R_{s} T_{s} & 0 & 0 & 0\\\\0 & R_{s} T_{s} & 0 & 0\\\\0 & L_{m} T_{s} \\omega_{r} & R_{r} T_{s} & L_{r} T_{s} \\omega_{r}\\\\- L_{m} T_{s} \\omega_{r} & 0 & - L_{r} T_{s} \\omega_{r} & R_{r} T_{s}\\end{matrix}\\right]$"
      ],
      "text/plain": [
       "<IPython.core.display.Math object>"
      ]
     },
     "metadata": {},
     "output_type": "display_data"
    }
   ],
   "source": [
    "# Definir o tempo de amostragem como variável simbólica\n",
    "T_s = sp.symbols('T_s', real=True, positive=True)\n",
    "\n",
    "# Discretização pelo método de Euler\n",
    "A_d = sp.eye(4) + T_s * A \n",
    "B_d = T_s * B\n",
    "\n",
    "# Exibir as equações discretizadas em LaTeX\n",
    "\n",
    "display(Math(r\"\\mathbf{I}[k+1] = \\mathbf{A_d} \\mathbf{I}[k] + \\mathbf{B_d} \\mathbf{V}[k]\"))\n",
    "display(Math(r\"\\text{Discretized System (Euler Method):}\"))\n",
    "display(Math(r\"\\mathbf{A_d} = \" + sp.latex(A_d)))\n",
    "display(Math(r\"\\mathbf{B_d} = \" + sp.latex(B_d)))"
   ]
  },
  {
   "cell_type": "markdown",
   "metadata": {},
   "source": [
    "# Comparação com Artigo\n",
    "\n",
    "Vamos comparar as equações encontradas com o artigo:\n",
    "$\n",
    "\\textit{C++ based dynamic model of AC induction motor in discrete time domain} \\\\\n",
    "$\n",
    "https://ieeexplore.ieee.org/document/7512961\n"
   ]
  },
  {
   "cell_type": "code",
   "execution_count": 6,
   "metadata": {},
   "outputs": [
    {
     "data": {
      "text/latex": [
       "$\\displaystyle \\frac{d}{d t} i_{\\alpha s}{\\left(t \\right)} = \\frac{- L_{m} \\left(L_{m} \\omega_{r} i_{\\beta s}{\\left(t \\right)} + L_{r} \\omega_{r} i_{\\beta r}{\\left(t \\right)} + R_{r} i_{\\alpha r}{\\left(t \\right)} - v_{\\alpha r}\\right) + L_{r} \\left(R_{s} i_{\\alpha s}{\\left(t \\right)} - v_{\\alpha s}\\right)}{L_{m}^{2} - L_{r} L_{s}}$"
      ],
      "text/plain": [
       "<IPython.core.display.Math object>"
      ]
     },
     "metadata": {},
     "output_type": "display_data"
    },
    {
     "data": {
      "text/latex": [
       "$\\displaystyle \\frac{d}{d t} i_{\\beta s}{\\left(t \\right)} = \\frac{L_{m} \\left(L_{m} \\omega_{r} i_{\\alpha s}{\\left(t \\right)} + L_{r} \\omega_{r} i_{\\alpha r}{\\left(t \\right)} - R_{r} i_{\\beta r}{\\left(t \\right)} + v_{\\beta r}\\right) + L_{r} \\left(R_{s} i_{\\beta s}{\\left(t \\right)} - v_{\\beta s}\\right)}{L_{m}^{2} - L_{r} L_{s}}$"
      ],
      "text/plain": [
       "<IPython.core.display.Math object>"
      ]
     },
     "metadata": {},
     "output_type": "display_data"
    },
    {
     "data": {
      "text/latex": [
       "$\\displaystyle \\frac{d}{d t} i_{\\alpha r}{\\left(t \\right)} = \\frac{- L_{m} \\left(R_{s} i_{\\alpha s}{\\left(t \\right)} - v_{\\alpha s}\\right) + L_{s} \\left(L_{m} \\omega_{r} i_{\\beta s}{\\left(t \\right)} + L_{r} \\omega_{r} i_{\\beta r}{\\left(t \\right)} + R_{r} i_{\\alpha r}{\\left(t \\right)} - v_{\\alpha r}\\right)}{L_{m}^{2} - L_{r} L_{s}}$"
      ],
      "text/plain": [
       "<IPython.core.display.Math object>"
      ]
     },
     "metadata": {},
     "output_type": "display_data"
    },
    {
     "data": {
      "text/latex": [
       "$\\displaystyle \\frac{d}{d t} i_{\\beta r}{\\left(t \\right)} = \\frac{- L_{m} \\left(R_{s} i_{\\beta s}{\\left(t \\right)} - v_{\\beta s}\\right) - L_{s} \\left(L_{m} \\omega_{r} i_{\\alpha s}{\\left(t \\right)} + L_{r} \\omega_{r} i_{\\alpha r}{\\left(t \\right)} - R_{r} i_{\\beta r}{\\left(t \\right)} + v_{\\beta r}\\right)}{L_{m}^{2} - L_{r} L_{s}}$"
      ],
      "text/plain": [
       "<IPython.core.display.Math object>"
      ]
     },
     "metadata": {},
     "output_type": "display_data"
    }
   ],
   "source": [
    "# Redefinir variáveis com os mesmos nomes usados anteriormente\n",
    "import sympy as sp\n",
    "from sympy import symbols, Function, Matrix, Eq\n",
    "from IPython.display import display, Math\n",
    "\n",
    "# Parâmetros\n",
    "t = sp.symbols('t', real=True)\n",
    "L_s, L_m, L_r = sp.symbols('L_s L_m L_r', real=True)\n",
    "R_s, R_r, omega_r = sp.symbols('R_s R_r omega_r', real=True)\n",
    "v_alpha_s, v_beta_s, v_alpha_r, v_beta_r = sp.symbols('v_alpha_s v_beta_s v_alpha_r v_beta_r', real=True)\n",
    "i_alpha_s = Function('i_alpha_s')(t)\n",
    "i_beta_s = Function('i_beta_s')(t)\n",
    "i_alpha_r = Function('i_alpha_r')(t)\n",
    "i_beta_r = Function('i_beta_r')(t)\n",
    "\n",
    "# Vetores/Matrizes\n",
    "i_vec = Matrix([i_alpha_s, i_beta_s, i_alpha_r, i_beta_r])\n",
    "V_vec = Matrix([v_alpha_s, v_beta_s, v_alpha_r, v_beta_r])\n",
    "\n",
    "M = Matrix([\n",
    "    [L_s,  0,   L_m,  0 ],\n",
    "    [0,   L_s,  0,   L_m],\n",
    "    [L_m,  0,   L_r,  0 ],\n",
    "    [0,   L_m,  0,   L_r]\n",
    "])\n",
    "\n",
    "B = Matrix([\n",
    "    [   R_s,    0,      0,       0   ],\n",
    "    [    0,   R_s,      0,       0   ],\n",
    "    [    0,   omega_r*L_m,   R_r,   omega_r*L_r   ],\n",
    "    [-omega_r*L_m,   0, -omega_r*L_r,      R_r   ]\n",
    "])\n",
    "\n",
    "M_inv = M.inv()\n",
    "\n",
    "# Espaço de estados\n",
    "#    di_vec/dt = M^(-1)*(V_vec - B*i_vec)\n",
    "rhs = M_inv * (V_vec - B*i_vec)\n",
    "\n",
    "# Equações individuais\n",
    "eqs = []\n",
    "for k in range(4):\n",
    "    eqs.append(Eq(i_vec[k].diff(t), rhs[k]))\n",
    "\n",
    "# Simplificar Equações\n",
    "eqs_simplificadas = [Eq(eq.lhs, sp.simplify(eq.rhs)) for eq in eqs]\n",
    "\n",
    "# Exibir em LaTeX\n",
    "for idx, eq in enumerate(eqs_simplificadas, start=1):\n",
    "    display(Math(sp.latex(eq)))\n"
   ]
  }
 ],
 "metadata": {
  "kernelspec": {
   "display_name": "Python 3",
   "language": "python",
   "name": "python3"
  },
  "language_info": {
   "codemirror_mode": {
    "name": "ipython",
    "version": 3
   },
   "file_extension": ".py",
   "mimetype": "text/x-python",
   "name": "python",
   "nbconvert_exporter": "python",
   "pygments_lexer": "ipython3",
   "version": "3.11.4"
  }
 },
 "nbformat": 4,
 "nbformat_minor": 2
}
