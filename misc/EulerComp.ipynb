{
 "cells": [
  {
   "cell_type": "code",
   "execution_count": 1,
   "metadata": {},
   "outputs": [
    {
     "data": {
      "application/vnd.jupyter.widget-view+json": {
       "model_id": "92937b4af9a04de58610ed1b15484fe8",
       "version_major": 2,
       "version_minor": 0
      },
      "text/plain": [
       "interactive(children=(FloatSlider(value=0.1, description='h', max=1.0, min=0.01, step=0.01), FloatSlider(value…"
      ]
     },
     "metadata": {},
     "output_type": "display_data"
    }
   ],
   "source": [
    "# Recarregar as bibliotecas após reset\n",
    "import numpy as np\n",
    "import matplotlib.pyplot as plt\n",
    "import ipywidgets as widgets\n",
    "from IPython.display import display\n",
    "\n",
    "# Função para resolver com Forward Euler\n",
    "def forward_euler(h, T, y0, lambda_val):\n",
    "    N = int(T / h)\n",
    "    t = np.linspace(0, T, N+1)\n",
    "    y = np.zeros(N+1)\n",
    "    y[0] = y0\n",
    "    \n",
    "    for n in range(N):\n",
    "        y[n+1] = y[n] - h * lambda_val * y[n]\n",
    "    \n",
    "    return t, y\n",
    "\n",
    "# Função para resolver com Backward Euler\n",
    "def backward_euler(h, T, y0, lambda_val):\n",
    "    N = int(T / h)\n",
    "    t = np.linspace(0, T, N+1)\n",
    "    y = np.zeros(N+1)\n",
    "    y[0] = y0\n",
    "    \n",
    "    for n in range(N):\n",
    "        y[n+1] = y[n] / (1 + h * lambda_val)\n",
    "    \n",
    "    return t, y\n",
    "\n",
    "# Solução analítica para referência\n",
    "def analytical_solution(t, y0, lambda_val):\n",
    "    return y0 * np.exp(-lambda_val * t)\n",
    "\n",
    "# Função para plotar os resultados\n",
    "def plot_euler_comparison(h, T, lambda_val):\n",
    "    y0 = 1.0  # Condição inicial fixa\n",
    "    t_fe, y_fe = forward_euler(h, T, y0, lambda_val)\n",
    "    t_be, y_be = backward_euler(h, T, y0, lambda_val)\n",
    "    t_exact = np.linspace(0, T, 1000)\n",
    "    y_exact = analytical_solution(t_exact, y0, lambda_val)\n",
    "    \n",
    "    plt.figure(figsize=(8, 5))\n",
    "    plt.plot(t_fe, y_fe, '--o', label='Forward Euler')\n",
    "    plt.plot(t_be, y_be, '--s', label='Backward Euler')\n",
    "    plt.plot(t_exact, y_exact, 'k', label='Exact Solution')\n",
    "    \n",
    "    plt.xlabel('Time')\n",
    "    plt.ylabel('y(t)')\n",
    "    plt.title(f'Comparison of Forward and Backward Euler Methods (h={h}, T={T}, lambda={lambda_val})')\n",
    "    plt.legend()\n",
    "    plt.grid()\n",
    "    plt.show()\n",
    "\n",
    "# Criar sliders interativos\n",
    "h_slider = widgets.FloatSlider(min=0.01, max=1.0, step=0.01, value=0.1, description='h')\n",
    "T_slider = widgets.FloatSlider(min=5, max=50, step=1, value=20, description='T')\n",
    "lambda_slider = widgets.FloatSlider(min=0.1, max=10, step=0.1, value=5.0, description='lambda')\n",
    "\n",
    "# Exibir interação\n",
    "display(widgets.interactive(plot_euler_comparison, h=h_slider, T=T_slider, lambda_val=lambda_slider))\n"
   ]
  }
 ],
 "metadata": {
  "kernelspec": {
   "display_name": "Python 3",
   "language": "python",
   "name": "python3"
  },
  "language_info": {
   "codemirror_mode": {
    "name": "ipython",
    "version": 3
   },
   "file_extension": ".py",
   "mimetype": "text/x-python",
   "name": "python",
   "nbconvert_exporter": "python",
   "pygments_lexer": "ipython3",
   "version": "3.12.6"
  }
 },
 "nbformat": 4,
 "nbformat_minor": 2
}
